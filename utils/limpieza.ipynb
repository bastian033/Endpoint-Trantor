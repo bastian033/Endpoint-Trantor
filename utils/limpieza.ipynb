{
 "cells": [
  {
   "cell_type": "code",
   "execution_count": 1,
   "id": "d5856768",
   "metadata": {},
   "outputs": [],
   "source": [
    "import pandas as pd\n",
    "import numpy as np"
   ]
  },
  {
   "cell_type": "code",
   "execution_count": 2,
   "id": "0ae4f695",
   "metadata": {},
   "outputs": [],
   "source": [
    "ruta = \"C:\\\\Users\\\\Usuario\\\\Downloads\\\\PUB_EMPRESAS_PJ_2020_A_2024.txt\"\n",
    "\n",
    "df = pd.read_csv(ruta, sep=\"\\t\", engine=\"python\")"
   ]
  },
  {
   "cell_type": "code",
   "execution_count": 3,
   "id": "7f0171e6",
   "metadata": {},
   "outputs": [
    {
     "data": {
      "text/plain": [
       "(3342998, 22)"
      ]
     },
     "execution_count": 3,
     "metadata": {},
     "output_type": "execute_result"
    }
   ],
   "source": [
    "df.shape"
   ]
  },
  {
   "cell_type": "code",
   "execution_count": 3,
   "id": "5f130566",
   "metadata": {},
   "outputs": [
    {
     "name": "stdout",
     "output_type": "stream",
     "text": [
      "Index(['Año comercial', 'RUT', 'DV', 'Razón social', 'Tramo según ventas',\n",
      "       'Número de trabajadores dependie', 'Fecha inicio de actividades vige',\n",
      "       'Fecha término de giro', 'Fecha primera inscripción de ac',\n",
      "       'Tipo término de giro', 'Tipo de contribuyente',\n",
      "       'Subtipo de contribuyente', 'Tramo capital propio positivo',\n",
      "       'Tramo capital propio negativo', 'Rubro económico',\n",
      "       'Subrubro económico', 'Actividad económica', 'Región', 'Provincia',\n",
      "       'Comuna', 'R_PRESUNTA', 'OTROS_REGIMENES'],\n",
      "      dtype='object')\n"
     ]
    }
   ],
   "source": [
    "print(df.columns)"
   ]
  },
  {
   "cell_type": "code",
   "execution_count": 4,
   "id": "5f078481",
   "metadata": {},
   "outputs": [
    {
     "name": "stdout",
     "output_type": "stream",
     "text": [
      "    Año comercial       RUT DV                                Razón social  \\\n",
      "0            2020  50000100  3         FUNDACION ARTURO IRARRAZAVAL CORREA   \n",
      "1            2020  50000510  6                 TORREJON CASTRO LUIS Y JOSE   \n",
      "2            2020  50000710  9                  PONCE PONCE MANUEL E HIJOS   \n",
      "3            2020  50001570  5        GARCIA MARTINEZ MARIA MILAGRO Y OTRO   \n",
      "4            2020  50001700  7             COMUNIDAD EDIFICIO MOSQUETO 520   \n",
      "5            2020  50001900  K            COMUNIDAD EDIFICIO HUERFANOS 518   \n",
      "6            2020  50002100  4           COMUNIDAD EDIFICIO HUERFANOS 1022   \n",
      "7            2020  50002420  8             MARTINEZ ZARZUELA DANIEL Y OTRO   \n",
      "8            2020  50003040  2                   DIAZ BRUNA ARMANDO Y OTRO   \n",
      "9            2020  50003920  5                 SALHE HARCHA NICOLAS Y HNOS   \n",
      "10           2020  50004330  K     PRIETO VILLEGAS LUPERCIO ENRIQUE Y OTRO   \n",
      "11           2020  50005400  K          COMUNIDAD EDIFICIO MORANDE 223 239   \n",
      "12           2020  50006780  2                       GALIACHIS Y PATERAKIS   \n",
      "13           2020  50006900  7                     COMUNIDAD EDIFICIO N 39   \n",
      "14           2020  50007800  6  COMUNIDAD EDIFICIO PORTAL FERNANDEZ CONCHA   \n",
      "\n",
      "    Tramo según ventas  Número de trabajadores dependie  \\\n",
      "0                    1                                4   \n",
      "1                    1                                0   \n",
      "2                    3                                0   \n",
      "3                    3                                0   \n",
      "4                    1                                1   \n",
      "5                    1                                1   \n",
      "6                    1                                0   \n",
      "7                    5                                7   \n",
      "8                    2                                0   \n",
      "9                    2                                0   \n",
      "10                   3                                1   \n",
      "11                   1                                3   \n",
      "12                   4                                0   \n",
      "13                   1                                8   \n",
      "14                   1                                0   \n",
      "\n",
      "   Fecha inicio de actividades vige Fecha término de giro  \\\n",
      "0                        1993-01-01                   NaN   \n",
      "1                        1993-01-01                   NaN   \n",
      "2                        1993-01-01                   NaN   \n",
      "3                        1993-01-01                   NaN   \n",
      "4                               NaN                   NaN   \n",
      "5                        1993-01-01                   NaN   \n",
      "6                        1993-01-01                   NaN   \n",
      "7                        1993-01-01                   NaN   \n",
      "8                        1993-01-01                   NaN   \n",
      "9                        1993-01-01                   NaN   \n",
      "10                              NaN            2023-06-02   \n",
      "11                       1993-01-01                   NaN   \n",
      "12                       1993-01-01                   NaN   \n",
      "13                       1993-01-01                   NaN   \n",
      "14                       1993-01-01                   NaN   \n",
      "\n",
      "   Fecha primera inscripción de ac              Tipo término de giro  ...  \\\n",
      "0                       1993-01-01                               NaN  ...   \n",
      "1                       1993-01-01                               NaN  ...   \n",
      "2                       1993-01-01                               NaN  ...   \n",
      "3                       1993-01-01                               NaN  ...   \n",
      "4                       1993-01-01                               NaN  ...   \n",
      "5                       1993-01-01                               NaN  ...   \n",
      "6                       1993-01-01                               NaN  ...   \n",
      "7                       1993-01-01                               NaN  ...   \n",
      "8                       1993-01-01                               NaN  ...   \n",
      "9                       1993-01-01                               NaN  ...   \n",
      "10                      1993-01-01  TERMINO DE GIRO PERSONA JURIDICA  ...   \n",
      "11                      1993-01-01                               NaN  ...   \n",
      "12                      1993-01-01                               NaN  ...   \n",
      "13                      1993-01-01                               NaN  ...   \n",
      "14                      1993-01-01                               NaN  ...   \n",
      "\n",
      "   Tramo capital propio positivo Tramo capital propio negativo  \\\n",
      "0                            NaN                           NaN   \n",
      "1                            NaN                           NaN   \n",
      "2                            NaN                           3.0   \n",
      "3                            NaN                           NaN   \n",
      "4                            NaN                           NaN   \n",
      "5                            NaN                           NaN   \n",
      "6                            NaN                           NaN   \n",
      "7                            5.0                           NaN   \n",
      "8                            NaN                           NaN   \n",
      "9                            6.0                           NaN   \n",
      "10                           6.0                           NaN   \n",
      "11                           NaN                           NaN   \n",
      "12                           5.0                           NaN   \n",
      "13                           NaN                           NaN   \n",
      "14                           NaN                           NaN   \n",
      "\n",
      "                                      Rubro económico  \\\n",
      "0   ACTIVIDADES DE ATENCION DE LA SALUD HUMANA Y D...   \n",
      "1                         TRANSPORTE Y ALMACENAMIENTO   \n",
      "2                             INDUSTRIA MANUFACTURERA   \n",
      "3   ACTIVIDADES DE ALOJAMIENTO Y DE SERVICIO DE CO...   \n",
      "4                      OTRAS ACTIVIDADES DE SERVICIOS   \n",
      "5                      OTRAS ACTIVIDADES DE SERVICIOS   \n",
      "6                      OTRAS ACTIVIDADES DE SERVICIOS   \n",
      "7   ACTIVIDADES DE ALOJAMIENTO Y DE SERVICIO DE CO...   \n",
      "8   COMERCIO AL POR MAYOR Y AL POR MENOR; REPARACI...   \n",
      "9   COMERCIO AL POR MAYOR Y AL POR MENOR; REPARACI...   \n",
      "10                            INDUSTRIA MANUFACTURERA   \n",
      "11                     OTRAS ACTIVIDADES DE SERVICIOS   \n",
      "12                          ACTIVIDADES INMOBILIARIAS   \n",
      "13                     OTRAS ACTIVIDADES DE SERVICIOS   \n",
      "14                     OTRAS ACTIVIDADES DE SERVICIOS   \n",
      "\n",
      "                                   Subrubro económico  \\\n",
      "0      OTRAS ACTIVIDADES DE ATENCION EN INSTITUCIONES   \n",
      "1   OTRAS ACTIVIDADES DE TRANSPORTE POR VIA TERRESTRE   \n",
      "2   FABRICACION DE PRODUCTOS METALICOS PARA USO ES...   \n",
      "3   ACTIVIDADES DE RESTAURANTES Y DE SERVICIO MOVI...   \n",
      "4                   ACTIVIDADES DE OTRAS ASOCIACIONES   \n",
      "5                   ACTIVIDADES DE OTRAS ASOCIACIONES   \n",
      "6                   ACTIVIDADES DE OTRAS ASOCIACIONES   \n",
      "7   ACTIVIDADES DE RESTAURANTES Y DE SERVICIO MOVI...   \n",
      "8   VENTA AL POR MENOR DE ALIMENTOS, BEBIDAS Y TAB...   \n",
      "9   VENTA AL POR MENOR DE OTROS PRODUCTOS EN COMER...   \n",
      "10                             FABRICACION DE MUEBLES   \n",
      "11          OTRAS ACTIVIDADES DE SERVICIOS PERSONALES   \n",
      "12  ACTIVIDADES INMOBILIARIAS REALIZADAS CON BIENE...   \n",
      "13                  ACTIVIDADES DE OTRAS ASOCIACIONES   \n",
      "14          OTRAS ACTIVIDADES DE SERVICIOS PERSONALES   \n",
      "\n",
      "                                  Actividad económica  \\\n",
      "0      OTRAS ACTIVIDADES DE ATENCION EN INSTITUCIONES   \n",
      "1                   TRANSPORTE DE CARGA POR CARRETERA   \n",
      "2   FABRICACION DE PRODUCTOS METALICOS PARA USO ES...   \n",
      "3   ACTIVIDADES DE RESTAURANTES Y DE SERVICIO MOVI...   \n",
      "4   CONSEJO DE ADMINISTRACION DE EDIFICIOS Y CONDO...   \n",
      "5            ACTIVIDADES DE OTRAS ASOCIACIONES N.C.P.   \n",
      "6   CONSEJO DE ADMINISTRACION DE EDIFICIOS Y CONDO...   \n",
      "7   ACTIVIDADES DE RESTAURANTES Y DE SERVICIO MOVI...   \n",
      "8   VENTA AL POR MENOR DE BEBIDAS ALCOHOLICAS Y NO...   \n",
      "9   VENTA AL POR MENOR DE PRENDAS Y ACCESORIOS DE ...   \n",
      "10    FABRICACION DE MUEBLES PRINCIPALMENTE DE MADERA   \n",
      "11   OTRAS ACTIVIDADES DE SERVICIOS PERSONALES N.C.P.   \n",
      "12  COMPRA, VENTA Y ALQUILER (EXCEPTO AMOBLADOS) D...   \n",
      "13           ACTIVIDADES DE OTRAS ASOCIACIONES N.C.P.   \n",
      "14   OTRAS ACTIVIDADES DE SERVICIOS PERSONALES N.C.P.   \n",
      "\n",
      "                       Región    Provincia           Comuna R_PRESUNTA  \\\n",
      "0   XIII REGION METROPOLITANA     Santiago       LAS CONDES        NaN   \n",
      "1          IV REGION COQUIMBO       Limarí           OVALLE        NaN   \n",
      "2          IV REGION COQUIMBO        Elqui         COQUIMBO        NaN   \n",
      "3   XIII REGION METROPOLITANA     Santiago       SAN MIGUEL        NaN   \n",
      "4   XIII REGION METROPOLITANA     Santiago         SANTIAGO        NaN   \n",
      "5   XIII REGION METROPOLITANA     Santiago         SANTIAGO        NaN   \n",
      "6   XIII REGION METROPOLITANA     Santiago         SANTIAGO        NaN   \n",
      "7   XIII REGION METROPOLITANA     Santiago         SANTIAGO        NaN   \n",
      "8   XIII REGION METROPOLITANA     Santiago  P AGUIRRE CERDA        NaN   \n",
      "9   XIII REGION METROPOLITANA     Santiago         SANTIAGO        NaN   \n",
      "10  XIII REGION METROPOLITANA     Santiago    INDEPENDENCIA        NaN   \n",
      "11  XIII REGION METROPOLITANA     Santiago         SANTIAGO        NaN   \n",
      "12   II REGION DE ANTOFAGASTA  Antofagasta      ANTOFAGASTA        NaN   \n",
      "13  XIII REGION METROPOLITANA     Santiago         SANTIAGO        NaN   \n",
      "14  XIII REGION METROPOLITANA     Santiago         SANTIAGO        NaN   \n",
      "\n",
      "                             OTROS_REGIMENES  \n",
      "0       REGIMEN GENERAL SEMI INTEGRADO (14A)  \n",
      "1             REGIMEN PRO PYME GENERAL (14D)  \n",
      "2             REGIMEN PRO PYME GENERAL (14D)  \n",
      "3    REGIMEN PRO PYME TRANSPARENTE (14D N°8)  \n",
      "4                                        NaN  \n",
      "5                                        NaN  \n",
      "6             REGIMEN PRO PYME GENERAL (14D)  \n",
      "7             REGIMEN PRO PYME GENERAL (14D)  \n",
      "8             REGIMEN PRO PYME GENERAL (14D)  \n",
      "9             REGIMEN PRO PYME GENERAL (14D)  \n",
      "10            REGIMEN PRO PYME GENERAL (14D)  \n",
      "11            REGIMEN PRO PYME GENERAL (14D)  \n",
      "12            REGIMEN PRO PYME GENERAL (14D)  \n",
      "13  CONTRIBUYENTES NO SUJETOS AL ARTICULO 14  \n",
      "14            REGIMEN PRO PYME GENERAL (14D)  \n",
      "\n",
      "[15 rows x 22 columns]\n"
     ]
    }
   ],
   "source": [
    "print(df.head(15))"
   ]
  },
  {
   "cell_type": "code",
   "execution_count": 5,
   "id": "0c50e5a1",
   "metadata": {},
   "outputs": [
    {
     "data": {
      "text/plain": [
       "0        OTRAS ACTIVIDADES DE ATENCION EN INSTITUCIONES\n",
       "1                     TRANSPORTE DE CARGA POR CARRETERA\n",
       "2     FABRICACION DE PRODUCTOS METALICOS PARA USO ES...\n",
       "3     ACTIVIDADES DE RESTAURANTES Y DE SERVICIO MOVI...\n",
       "4     CONSEJO DE ADMINISTRACION DE EDIFICIOS Y CONDO...\n",
       "5              ACTIVIDADES DE OTRAS ASOCIACIONES N.C.P.\n",
       "6     CONSEJO DE ADMINISTRACION DE EDIFICIOS Y CONDO...\n",
       "7     ACTIVIDADES DE RESTAURANTES Y DE SERVICIO MOVI...\n",
       "8     VENTA AL POR MENOR DE BEBIDAS ALCOHOLICAS Y NO...\n",
       "9     VENTA AL POR MENOR DE PRENDAS Y ACCESORIOS DE ...\n",
       "10      FABRICACION DE MUEBLES PRINCIPALMENTE DE MADERA\n",
       "11     OTRAS ACTIVIDADES DE SERVICIOS PERSONALES N.C.P.\n",
       "12    COMPRA, VENTA Y ALQUILER (EXCEPTO AMOBLADOS) D...\n",
       "13             ACTIVIDADES DE OTRAS ASOCIACIONES N.C.P.\n",
       "14     OTRAS ACTIVIDADES DE SERVICIOS PERSONALES N.C.P.\n",
       "15    MANTENIMIENTO Y REPARACION DE VEHICULOS AUTOMO...\n",
       "16     OTRAS ACTIVIDADES DE SERVICIOS PERSONALES N.C.P.\n",
       "17                                    Valor por Defecto\n",
       "18                                    Valor por Defecto\n",
       "19    COMPRA, VENTA Y ALQUILER (EXCEPTO AMOBLADOS) D...\n",
       "Name: Actividad económica, dtype: object"
      ]
     },
     "execution_count": 5,
     "metadata": {},
     "output_type": "execute_result"
    }
   ],
   "source": [
    "df[\"Actividad económica\"].head(20)"
   ]
  },
  {
   "cell_type": "code",
   "execution_count": 6,
   "id": "b82e9698",
   "metadata": {},
   "outputs": [
    {
     "name": "stdout",
     "output_type": "stream",
     "text": [
      "<class 'pandas.core.frame.DataFrame'>\n",
      "RangeIndex: 3342998 entries, 0 to 3342997\n",
      "Data columns (total 22 columns):\n",
      " #   Column                            Dtype  \n",
      "---  ------                            -----  \n",
      " 0   Año comercial                     int64  \n",
      " 1   RUT                               int64  \n",
      " 2   DV                                object \n",
      " 3   Razón social                      object \n",
      " 4   Tramo según ventas                int64  \n",
      " 5   Número de trabajadores dependie   int64  \n",
      " 6   Fecha inicio de actividades vige  object \n",
      " 7   Fecha término de giro             object \n",
      " 8   Fecha primera inscripción de ac   object \n",
      " 9   Tipo término de giro              object \n",
      " 10  Tipo de contribuyente             object \n",
      " 11  Subtipo de contribuyente          object \n",
      " 12  Tramo capital propio positivo     float64\n",
      " 13  Tramo capital propio negativo     float64\n",
      " 14  Rubro económico                   object \n",
      " 15  Subrubro económico                object \n",
      " 16  Actividad económica               object \n",
      " 17  Región                            object \n",
      " 18  Provincia                         object \n",
      " 19  Comuna                            object \n",
      " 20  R_PRESUNTA                        object \n",
      " 21  OTROS_REGIMENES                   object \n",
      "dtypes: float64(2), int64(4), object(16)\n",
      "memory usage: 561.1+ MB\n"
     ]
    }
   ],
   "source": [
    "df.info()"
   ]
  },
  {
   "cell_type": "code",
   "execution_count": null,
   "id": "832f04c4",
   "metadata": {},
   "outputs": [],
   "source": []
  }
 ],
 "metadata": {
  "kernelspec": {
   "display_name": "venv",
   "language": "python",
   "name": "python3"
  },
  "language_info": {
   "codemirror_mode": {
    "name": "ipython",
    "version": 3
   },
   "file_extension": ".py",
   "mimetype": "text/x-python",
   "name": "python",
   "nbconvert_exporter": "python",
   "pygments_lexer": "ipython3",
   "version": "3.13.2"
  }
 },
 "nbformat": 4,
 "nbformat_minor": 5
}
